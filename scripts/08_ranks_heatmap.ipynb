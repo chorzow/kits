{
 "cells": [
  {
   "cell_type": "code",
   "execution_count": 1,
   "metadata": {},
   "outputs": [],
   "source": [
    "import pandas as pd\n",
    "import numpy as np\n",
    "import matplotlib.pyplot as plt\n",
    "import seaborn as sns\n",
    "import matplotlib\n",
    "\n",
    "\n",
    "new_rc_params = {'text.usetex': False,\n",
    "\"svg.fonttype\": 'none'\n",
    "}\n",
    "matplotlib.rcParams.update(new_rc_params)"
   ]
  },
  {
   "cell_type": "code",
   "execution_count": 4,
   "metadata": {},
   "outputs": [],
   "source": [
    "df = pd.read_csv('../ranks.csv', index_col=0)\n"
   ]
  },
  {
   "cell_type": "code",
   "execution_count": 5,
   "metadata": {},
   "outputs": [],
   "source": [
    "common_kits = ['MagBac', 'MagMic', 'MagSoi', 'MagSto', 'SilMet', 'SilSoi', 'SkySto', 'SkySoi']\n",
    "kits_dict = {}\n",
    "for t in sample_types:\n",
    "    if t == 'Water':\n",
    "        kits_dict[t] = common_kits + ['B&T']\n",
    "    elif t == 'Feces':\n",
    "        kits_dict[t] = common_kits + ['PowSoi', 'PowFec']\n",
    "    elif t in ('Gut flora', 'Sediment'):\n",
    "        kits_dict[t] = common_kits + ['PowSoi']\n",
    "    else:\n",
    "        kits_dict[t] = common_kits"
   ]
  },
  {
   "cell_type": "code",
   "execution_count": 34,
   "metadata": {},
   "outputs": [],
   "source": [
    "# Define sample types\n",
    "sample_types = ['Water', 'Sediment', 'Gut flora', 'Feces']\n",
    "\n",
    "# Create a 4x3 grid of subplots for heatmaps and dotplots\n",
    "fig, axes = plt.subplots(4, 3, figsize=(15, 20), gridspec_kw={'width_ratios': [1.5, 1, 1]})\n",
    "\n",
    "# Create heatmaps and dotplots for each sample type\n",
    "for i, sample_type in enumerate(sample_types):\n",
    "    # Heatmap\n",
    "    columns_list = ['Simplicity', 'Cost per sample'] + df.columns[df.columns.str.contains(sample_type)].tolist()\n",
    "\n",
    "    # Filter dataframe for kits specific to this sample type\n",
    "    sample_df = df[columns_list]\n",
    "    sample_df = sample_df[sample_df.index.isin(kits_dict[sample_type])]\n",
    "    \n",
    "    # Remove sample type prefix from column names\n",
    "    sample_df.columns = sample_df.columns.str.replace(f'{sample_type}_', '', regex=False)\n",
    "    sns.heatmap(sample_df, annot=True, cmap='Blues_r', cbar=False, ax=axes[i,0], annot_kws={'size': 18})\n",
    "    axes[i,0].set_ylabel(f'{sample_type.capitalize()}', fontsize=18)\n",
    "    axes[i,0].tick_params(axis='both', labelsize=14)  # Increase tick label size\n",
    "    if i != 3:\n",
    "        axes[i,0].tick_params(labelbottom=False)\n",
    "    # Dotplot with all scores\n",
    "    total_scores = sample_df.sum(axis=1)\n",
    "    sorted_scores = total_scores.sort_values()\n",
    "    axes[i,1].plot(sorted_scores, 'o')\n",
    "    axes[i,1].set_xticks(range(len(sorted_scores)))\n",
    "    axes[i,1].set_xticklabels(sorted_scores.index, rotation=90, fontsize=12)\n",
    "    axes[i,1].set_ylabel('Total Rank', fontsize=16)\n",
    "    axes[i,1].set_box_aspect(1)\n",
    "\n",
    "    # Dotplot without Simplicity and Cost\n",
    "    sample_df_no_cost = sample_df.drop(['Simplicity', 'Cost per sample'], axis=1)\n",
    "    total_scores_no_cost = sample_df_no_cost.sum(axis=1)\n",
    "    sorted_scores_no_cost = total_scores_no_cost.sort_values()\n",
    "    axes[i,2].plot(sorted_scores_no_cost, 'o')\n",
    "    axes[i,2].set_xticks(range(len(sorted_scores_no_cost)))\n",
    "    axes[i,2].set_xticklabels(sorted_scores_no_cost.index, rotation=90, fontsize=12)\n",
    "    axes[i,2].set_ylabel('Quality Rank', fontsize=16)\n",
    "    axes[i,2].set_box_aspect(1)\n",
    "\n",
    "# Add legend in bottom right corner\n",
    "legend_text = \"Lower rank - better performance\\nHigher rank - worse performance\"\n",
    "props = dict(boxstyle='round', facecolor='white', alpha=0.8)\n",
    "axes[3,2].text(1, -0.4, legend_text, transform=axes[3,2].transAxes, \n",
    "               fontsize=16, verticalalignment='bottom', horizontalalignment='right',\n",
    "               bbox=props)\n",
    "\n",
    "plt.tight_layout()\n",
    "plt.savefig('../plots/sample_type_heatmaps.pdf', format='pdf', bbox_inches='tight')\n",
    "plt.close()"
   ]
  }
 ],
 "metadata": {
  "kernelspec": {
   "display_name": "Python 3",
   "language": "python",
   "name": "python3"
  },
  "language_info": {
   "codemirror_mode": {
    "name": "ipython",
    "version": 3
   },
   "file_extension": ".py",
   "mimetype": "text/x-python",
   "name": "python",
   "nbconvert_exporter": "python",
   "pygments_lexer": "ipython3",
   "version": "3.11.3"
  }
 },
 "nbformat": 4,
 "nbformat_minor": 2
}
